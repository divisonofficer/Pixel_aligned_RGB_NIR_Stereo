{
 "cells": [
  {
   "cell_type": "code",
   "execution_count": null,
   "metadata": {},
   "outputs": [],
   "source": [
    "import os\n",
    "os.chdir(\"/RAFT-Stereo/RGBNIR\") # Fix with forder root path"
   ]
  },
  {
   "cell_type": "code",
   "execution_count": null,
   "metadata": {},
   "outputs": [
    {
     "data": {
      "application/vnd.jupyter.widget-view+json": {
       "model_id": "16152ecf3ad047f98701e41c1f591c28",
       "version_major": 2,
       "version_minor": 0
      },
      "text/plain": [
       "VBox(children=(Dropdown(description='Scene:', options=('09-05-17-07-36', '09-05-17-10-57', '09-05-17-27-03', '…"
      ]
     },
     "metadata": {},
     "output_type": "display_data"
    },
    {
     "data": {
      "text/plain": [
       "<visualize.vis_utils.widget.FrameExplorer at 0x7f41242edde0>"
      ]
     },
     "execution_count": 7,
     "metadata": {},
     "output_type": "execute_result"
    }
   ],
   "source": [
    "import numpy as np\n",
    "from visualize.vis_utils.widget import FrameExplorer\n",
    "from dataloader.inputs import get_valid_input_from_path\n",
    "import matplotlib.pyplot as plt\n",
    "\n",
    "\n",
    "def plot_dataset(path: str):\n",
    "    inputs = get_valid_input_from_path(path)\n",
    "    plt.figure(figsize=(12, 4))\n",
    "    plt.subplot(1, 3, 1)\n",
    "    plt.imshow(inputs[0][0].permute(1, 2, 0).numpy().astype(np.uint8))\n",
    "    plt.subplot(1, 3, 2)\n",
    "    plt.imshow(inputs[2][0].permute(1, 2, 0).numpy().astype(np.uint8), cmap=\"gray\")\n",
    "    plt.subplot(1, 3, 3)\n",
    "    plt.imshow(np.zeros((540, 720), np.uint8), cmap=\"gray\")\n",
    "    plt.scatter(\n",
    "        inputs[4][..., 0],\n",
    "        inputs[4][..., 1],\n",
    "        c=inputs[4][..., 2],\n",
    "        s=1,\n",
    "        cmap=\"magma\",\n",
    "        vmin=0,\n",
    "        vmax=32,\n",
    "    )\n",
    "    plt.xlim(0, 720)\n",
    "    plt.show()\n",
    "\n",
    "\n",
    "FrameExplorer(plot_dataset, scene_root = \"./data\")"
   ]
  }
 ],
 "metadata": {
  "kernelspec": {
   "display_name": "Python 3",
   "language": "python",
   "name": "python3"
  },
  "language_info": {
   "codemirror_mode": {
    "name": "ipython",
    "version": 3
   },
   "file_extension": ".py",
   "mimetype": "text/x-python",
   "name": "python",
   "nbconvert_exporter": "python",
   "pygments_lexer": "ipython3",
   "version": "3.10.12"
  }
 },
 "nbformat": 4,
 "nbformat_minor": 2
}
